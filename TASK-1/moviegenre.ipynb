{
  "cells": [
    {
      "cell_type": "code",
      "execution_count": 1,
      "metadata": {
        "id": "jvqHgDSoVepl"
      },
      "outputs": [],
      "source": [
        "import pandas as pd\n",
        "import numpy as np\n",
        "from sklearn.feature_extraction.text import TfidfVectorizer\n",
        "from sklearn.multioutput import MultiOutputClassifier\n",
        "from sklearn.naive_bayes import MultinomialNB\n",
        "from sklearn.preprocessing import MultiLabelBinarizer\n",
        "from sklearn.metrics import accuracy_score,precision_score,recall_score,f1_score\n",
        "from tqdm import tqdm"
      ]
    },
    {
      "cell_type": "code",
      "execution_count": 2,
      "metadata": {
        "id": "vT6Qf2S7Vg6F"
      },
      "outputs": [],
      "source": [
        "genre_list=['action','adult','adventure','animation','biogrraphy','comedy','crime','documentary','family','fantasy','game-show','history','horror','music','musical','mystery','news','reality-tv','romance','sci-fi','short','sport','talk-show','thriller','war','western']"
      ]
    },
    {
      "cell_type": "code",
      "execution_count": 3,
      "metadata": {
        "id": "RxMkspNQWt4t"
      },
      "outputs": [],
      "source": [
        "fallback_genre='Unknown'"
      ]
    },
    {
      "cell_type": "code",
      "execution_count": 4,
      "metadata": {
        "colab": {
          "base_uri": "https://localhost:8080/"
        },
        "id": "slk_YbBOXqlO",
        "outputId": "6e9dad28-b087-4451-e8c5-af3a4a828b46"
      },
      "outputs": [
        {
          "name": "stderr",
          "output_type": "stream",
          "text": [
            "Loding Train Data: 100%|██████████| 50/50 [00:00<00:00, 722.46it/s]\n"
          ]
        }
      ],
      "source": [
        "try:\n",
        "  with tqdm(total=50,desc=\"Loding Train Data\") as pbar:\n",
        "    train_data=pd.read_csv('train_data.txt',sep=':::',header=None,names=['SerialNumber','MOVIE_NAME','GENRE','MOVIE_PLOT'],engine='python')\n",
        "    pbar.update(50)\n",
        "except Exception as e:\n",
        "  print(f\"ERROR loading train_data: {e}\")\n",
        "  raise\n",
        "\n"
      ]
    },
    {
      "cell_type": "code",
      "execution_count": 5,
      "metadata": {
        "id": "Se3ku-mNZYTM"
      },
      "outputs": [],
      "source": [
        "X_train=train_data['MOVIE_PLOT'].astype(str).apply(lambda doc:doc.lower())\n",
        "genre_labels=[genre.split(',') for genre in train_data['GENRE']]\n",
        "mlb=MultiLabelBinarizer()\n",
        "y_train=mlb.fit_transform(genre_labels)"
      ]
    },
    {
      "cell_type": "code",
      "execution_count": 8,
      "metadata": {
        "id": "1dU_fEzdaLw4"
      },
      "outputs": [],
      "source": [
        "tfidf_vectorizer=TfidfVectorizer(max_features=5000)"
      ]
    },
    {
      "cell_type": "code",
      "execution_count": 9,
      "metadata": {
        "colab": {
          "base_uri": "https://localhost:8080/"
        },
        "id": "FkYjZ39eaZKy",
        "outputId": "6afc2e50-8082-4679-fdf3-2198985ca73e"
      },
      "outputs": [
        {
          "name": "stderr",
          "output_type": "stream",
          "text": [
            "Vectorizing Training Data: 100%|██████████| 50/50 [00:00<00:00, 58.30it/s]\n"
          ]
        }
      ],
      "source": [
        "with tqdm(total=50,desc=\"Vectorizing Training Data\") as pbar:\n",
        "  X_train_tfidf=tfidf_vectorizer.fit_transform(X_train)\n",
        "  pbar.update(50)\n",
        "\n"
      ]
    },
    {
      "cell_type": "code",
      "execution_count": 10,
      "metadata": {
        "colab": {
          "base_uri": "https://localhost:8080/"
        },
        "id": "DTGfhSEVfMBi",
        "outputId": "1fed9751-a06a-43f1-ee02-80ef5e94bdae"
      },
      "outputs": [
        {
          "name": "stderr",
          "output_type": "stream",
          "text": [
            "Training Model: 100%|██████████| 50/50 [00:00<00:00, 309.15it/s]\n"
          ]
        }
      ],
      "source": [
        "with  tqdm(total=50,desc=\"Training Model\") as pbar:\n",
        "  naive_bayes=MultinomialNB()\n",
        "  naive_bayes_classifier=MultiOutputClassifier(naive_bayes)\n",
        "  naive_bayes_classifier.fit(X_train_tfidf,y_train)\n",
        "  pbar.update(50)"
      ]
    },
    {
      "cell_type": "code",
      "execution_count": 12,
      "metadata": {
        "colab": {
          "base_uri": "https://localhost:8080/"
        },
        "id": "90IVZeS6fom0",
        "outputId": "d5cbf0a6-accb-4bee-b1d4-7d64e752a1e9"
      },
      "outputs": [
        {
          "name": "stderr",
          "output_type": "stream",
          "text": [
            "Loding Test Data: 100%|██████████| 50/50 [00:00<00:00, 980.38it/s]\n"
          ]
        }
      ],
      "source": [
        "try:\n",
        "  with tqdm(total=50,desc=\"Loding Test Data\") as pbar:\n",
        "    test_data=pd.read_csv('test_data.txt',sep=':::',header=None,names=['SerialNumber','MOVIE_NAME','GENRE','MOVIE_PLOT'],engine='python')\n",
        "    pbar.update(50)\n",
        "except Exception as e:\n",
        "  print(f\"ERROR loading test_data: {e}\")\n",
        "  raise"
      ]
    },
    {
      "cell_type": "code",
      "execution_count": 13,
      "metadata": {
        "id": "XghMpT1tgHyK"
      },
      "outputs": [],
      "source": [
        "X_test=test_data['MOVIE_PLOT'].astype(str).apply(lambda doc:doc.lower())"
      ]
    },
    {
      "cell_type": "code",
      "execution_count": 15,
      "metadata": {
        "colab": {
          "base_uri": "https://localhost:8080/"
        },
        "id": "xcDYbEJ7gYap",
        "outputId": "dc693a6a-3862-443b-c99d-ba6439b30514"
      },
      "outputs": [
        {
          "name": "stderr",
          "output_type": "stream",
          "text": [
            "Vectorizing Test Data: 100%|██████████| 50/50 [00:00<00:00, 1674.95it/s]\n"
          ]
        }
      ],
      "source": [
        "with tqdm(total=50,desc=\"Vectorizing Test Data\") as pbar:\n",
        "  X_test_tfidf=tfidf_vectorizer.transform(X_test)\n",
        "  pbar.update(50)"
      ]
    },
    {
      "cell_type": "code",
      "execution_count": 16,
      "metadata": {
        "colab": {
          "base_uri": "https://localhost:8080/"
        },
        "id": "wm-6PctGg0cy",
        "outputId": "166c66aa-dc71-4626-a03a-19f0d3ffc076"
      },
      "outputs": [
        {
          "name": "stderr",
          "output_type": "stream",
          "text": [
            "Predicting Test Data: 100%|██████████| 50/50 [00:00<00:00, 2054.06it/s]\n"
          ]
        }
      ],
      "source": [
        "with tqdm(total=50,desc=\"Predicting Test Data\") as pbar:\n",
        "  y_pred=naive_bayes_classifier.predict(X_test_tfidf)\n",
        "  pbar.update(50)"
      ]
    },
    {
      "cell_type": "code",
      "execution_count": 20,
      "metadata": {
        "id": "r6HA9gDLa148"
      },
      "outputs": [],
      "source": [
        "test_movie_names=test_data['MOVIE_NAME']\n",
        "predicted_genres=mlb.inverse_transform(y_pred)\n",
        "test_results=pd.DataFrame({'MOVIE_NAME':test_movie_names,'PREDICTED_GENRE':predicted_genres})\n"
      ]
    },
    {
      "cell_type": "code",
      "execution_count": 21,
      "metadata": {
        "id": "S9wfeXhncD9y"
      },
      "outputs": [],
      "source": [
        "test_results['PREDICTED_GENRE']=test_results['PREDICTED_GENRE'].apply(lambda genres:[fallback_genre] if len(genres)==0 else genres)"
      ]
    },
    {
      "cell_type": "code",
      "execution_count": 22,
      "metadata": {
        "id": "8wgxVnkucczZ"
      },
      "outputs": [],
      "source": [
        "with open(\"model_evalution.txt\", \"w\",encoding=\"utf-8\") as output_file :\n",
        "    for _, row in test_results.iterrows():\n",
        "      movie_name=row['MOVIE_NAME']\n",
        "      predicted_genres=row['PREDICTED_GENRE']\n",
        "      genre_str=','.join(predicted_genres)\n",
        "      output_file.write(f\"{movie_name}:::{genre_str}\\n\")"
      ]
    },
    {
      "cell_type": "code",
      "execution_count": 23,
      "metadata": {
        "id": "b5GjyH9ahOmA"
      },
      "outputs": [],
      "source": [
        "y_train_pred=naive_bayes_classifier.predict(X_train_tfidf)"
      ]
    },
    {
      "cell_type": "code",
      "execution_count": 24,
      "metadata": {
        "colab": {
          "base_uri": "https://localhost:8080/"
        },
        "id": "29Nty2QwiFx4",
        "outputId": "a92f0222-96ad-4bfb-9d87-5c72cc7752bf"
      },
      "outputs": [
        {
          "name": "stderr",
          "output_type": "stream",
          "text": [
            "/usr/local/lib/python3.10/dist-packages/sklearn/metrics/_classification.py:1344: UndefinedMetricWarning: Precision is ill-defined and being set to 0.0 in labels with no predicted samples. Use `zero_division` parameter to control this behavior.\n",
            "  _warn_prf(average, modifier, msg_start, len(result))\n"
          ]
        }
      ],
      "source": [
        "accuracy=accuracy_score(y_train,y_train_pred)\n",
        "precision=precision_score(y_train,y_train_pred,average='macro')\n",
        "recall=recall_score(y_train,y_train_pred,average='macro')\n",
        "f1=f1_score(y_train,y_train_pred,average='macro')"
      ]
    },
    {
      "cell_type": "code",
      "execution_count": 25,
      "metadata": {
        "id": "hsADLwusir8I"
      },
      "outputs": [],
      "source": [
        "with open(\"model_evaluation.txt\",\"a\",encoding=\"utf-8\") as output_file:\n",
        "  output_file.write(\"\\n\\n model evaluation metrices:\\n\")\n",
        "  output_file.write(f\"accuracy: {accuracy * 100:.2f}%\\n\")\n",
        "  output_file.write(f\"precision: {precision:.2f}\\n\")\n",
        "  output_file.write(f\"recall: {recall:.2f}\\n\")\n",
        "  output_file.write(f\"f1: {f1:.2f}\\n\")"
      ]
    },
    {
      "cell_type": "code",
      "execution_count": 26,
      "metadata": {
        "colab": {
          "base_uri": "https://localhost:8080/"
        },
        "id": "IuCESJF5jZlB",
        "outputId": "b9446653-9f2b-402c-dbee-0e21b250863a"
      },
      "outputs": [
        {
          "name": "stdout",
          "output_type": "stream",
          "text": [
            "model evaluation results and metrices have been saved to 'model_evaluation.txt' .\n"
          ]
        }
      ],
      "source": [
        "print(\"model evaluation results and metrices have been saved to 'model_evaluation.txt' .\")"
      ]
    }
  ],
  "metadata": {
    "colab": {
      "provenance": []
    },
    "kernelspec": {
      "display_name": "Python 3",
      "name": "python3"
    },
    "language_info": {
      "name": "python"
    }
  },
  "nbformat": 4,
  "nbformat_minor": 0
}
